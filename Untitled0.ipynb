{
  "nbformat": 4,
  "nbformat_minor": 0,
  "metadata": {
    "colab": {
      "provenance": [],
      "authorship_tag": "ABX9TyMpsZKpMD1iMWkXAKUdAcIp",
      "include_colab_link": true
    },
    "kernelspec": {
      "name": "python3",
      "display_name": "Python 3"
    },
    "language_info": {
      "name": "python"
    }
  },
  "cells": [
    {
      "cell_type": "markdown",
      "metadata": {
        "id": "view-in-github",
        "colab_type": "text"
      },
      "source": [
        "<a href=\"https://colab.research.google.com/github/Bhargav1603/DataStore_assign1/blob/main/Untitled0.ipynb\" target=\"_parent\"><img src=\"https://colab.research.google.com/assets/colab-badge.svg\" alt=\"Open In Colab\"/></a>"
      ]
    },
    {
      "cell_type": "code",
      "source": [],
      "metadata": {
        "id": "Z_8lkYxpQeRR"
      },
      "execution_count": null,
      "outputs": []
    },
    {
      "cell_type": "code",
      "execution_count": null,
      "metadata": {
        "colab": {
          "base_uri": "https://localhost:8080/"
        },
        "id": "9QW9mB4bDp8w",
        "outputId": "71339357-e8f4-4ac5-9a54-57dad4d78af7"
      },
      "outputs": [
        {
          "output_type": "stream",
          "name": "stdout",
          "text": [
            "[id               1\n",
            "name          John\n",
            "age             28\n",
            "city      New York\n",
            "salary       60000\n",
            "Name: 0, dtype: object, id                  3\n",
            "name              Doe\n",
            "age                23\n",
            "city      Los Angeles\n",
            "salary          48000\n",
            "Name: 2, dtype: object, id              5\n",
            "name       Practo\n",
            "age            30\n",
            "city      Chicago\n",
            "salary      90000\n",
            "Name: 4, dtype: object, id            7\n",
            "name       Mike\n",
            "age          29\n",
            "city      Miami\n",
            "salary    52000\n",
            "Name: 6, dtype: object, id             9\n",
            "name         Sam\n",
            "age           27\n",
            "city      Dallas\n",
            "salary     58000\n",
            "Name: 8, dtype: object, id            10\n",
            "name         Amy\n",
            "age           26\n",
            "city      Austin\n",
            "salary     47000\n",
            "Name: 9, dtype: object, id             12\n",
            "name          Leo\n",
            "age            24\n",
            "city      Phoenix\n",
            "salary      45000\n",
            "Name: 11, dtype: object, id              14\n",
            "name        Practo\n",
            "age             45\n",
            "city      San Jose\n",
            "salary       92000\n",
            "Name: 13, dtype: object, id               16\n",
            "name         Olivia\n",
            "age              28\n",
            "city      Charlotte\n",
            "salary        63000\n",
            "Name: 15, dtype: object, id                  17\n",
            "name               Eva\n",
            "age                 22\n",
            "city      Indianapolis\n",
            "salary           43000\n",
            "Name: 16, dtype: object, id             20\n",
            "name       Sophia\n",
            "age            25\n",
            "city      Memphis\n",
            "salary      49000\n",
            "Name: 19, dtype: object, id              21\n",
            "name        Practo\n",
            "age             37\n",
            "city      Portland\n",
            "salary       70000\n",
            "Name: 20, dtype: object, id                   23\n",
            "name               Liam\n",
            "age                  27\n",
            "city      Oklahoma City\n",
            "salary            53000\n",
            "Name: 22, dtype: object]\n"
          ]
        }
      ],
      "source": [
        "import pandas as pd\n",
        "\n",
        "def parse_filter_expression(df, expression):\n",
        "    \"\"\"Helper function to parse and evaluate filter expression on DataFrame.\"\"\"\n",
        "    return df.query(expression)\n",
        "\n",
        "def filter_csv_in_pages(file_path, filter_expression, page_size=50):\n",
        "    \"\"\"Reads a CSV file and returns rows matching the filter criteria in pages of specified size.\"\"\"\n",
        "    chunk_size = 10000  # Adjust chunk size as needed to balance memory usage and performance\n",
        "    chunks = pd.read_csv(\"/sample_data.csv\", chunksize=chunk_size)\n",
        "\n",
        "    current_page = []\n",
        "\n",
        "    for chunk in chunks:\n",
        "        filtered_chunk = parse_filter_expression(chunk, filter_expression)\n",
        "        for _, row in filtered_chunk.iterrows():\n",
        "            current_page.append(row)\n",
        "            if len(current_page) == page_size:\n",
        "                yield current_page\n",
        "                current_page = []\n",
        "\n",
        "    # Yield any remaining rows that didn't fill a complete page\n",
        "    if current_page:\n",
        "        yield current_page\n",
        "\n",
        "# Example usage\n",
        "file_path = '/sample_data.csv'\n",
        "filter_expression = '(((name == \"Practo\") and (name != \"Dogreat\" )) or (age <= 30))'\n",
        "\n",
        "for page in filter_csv_in_pages(file_path, filter_expression):\n",
        "    print(page)\n"
      ]
    }
  ]
}